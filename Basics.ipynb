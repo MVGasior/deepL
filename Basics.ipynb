{
 "cells": [
  {
   "cell_type": "code",
   "execution_count": 1,
   "metadata": {},
   "outputs": [],
   "source": [
    "import numpy as np\n",
    "import matplotlib.pyplot as plt\n",
    "import math as math"
   ]
  },
  {
   "cell_type": "code",
   "execution_count": 2,
   "metadata": {},
   "outputs": [
    {
     "name": "stdout",
     "output_type": "stream",
     "text": [
      "a+b: [1, 2, 3, 4, 5, 6]\n",
      "Operacja a*b na listach Pythona nie ma sensu\n",
      "\n",
      "Operacje na tablicach NumPy:\n",
      "a+b: [5 7 9]\n",
      "a*b: [ 4 10 18]\n"
     ]
    }
   ],
   "source": [
    "a = [1, 2, 3]\n",
    "b = [4, 5, 6]\n",
    "print(\"a+b:\", a + b)\n",
    "try:\n",
    "    print(\"a*b:\", a * b)\n",
    "except TypeError:\n",
    "    print(\"Operacja a*b na listach Pythona nie ma sensu\")\n",
    "print()\n",
    "print(\"Operacje na tablicach NumPy:\")\n",
    "a = np.array([1,2,3])\n",
    "b = np.array([4,5,6])\n",
    "print(\"a+b:\", a + b)\n",
    "print(\"a*b:\", a * b)"
   ]
  },
  {
   "cell_type": "code",
   "execution_count": 3,
   "metadata": {},
   "outputs": [],
   "source": [
    "def square(x: np.ndarray) -> np.ndarray:\n",
    "    return np.power(x, 2)\n",
    "\n",
    "def sigmoid(x: np.ndarray) -> np.ndarray:\n",
    "    return 1 / (1 + np.exp(-x))\n",
    "\n",
    "def lealy_relu(x: np.ndarray) -> np.ndarray:\n",
    "    return np.maximum(0.2 * x, x)\n",
    "\n",
    "a = np.array([1,2,3])\n",
    "\n",
    "from typing import List\n",
    "from typing import Callable\n",
    "\n",
    "Array_Function = Callable[[np.ndarray], np.ndarray]\n",
    "Chain = List[Array_Function]\n"
   ]
  },
  {
   "cell_type": "code",
   "execution_count": 4,
   "metadata": {},
   "outputs": [],
   "source": [
    "#pochodna pojedynczej funkcji\n",
    "def deriv(func: Callable[[np.ndarray], np.ndarray],\n",
    "          input_: np.ndarray,\n",
    "          delta: float = 0.001) -> np.ndarray:\n",
    "    return (func(input_ + delta) - func(input_ - delta)) / (2 *  delta)\n",
    "\n",
    "\n",
    "def chain_length_2(chain: Chain,\n",
    "                   a: np.ndarray) -> np.ndarray:\n",
    "    \n",
    "    assert len(chain) == 2\n",
    "    \n",
    "    f1 = chain[0]\n",
    "    f2 = chain[1]\n",
    "    \n",
    "    return f2(f1(a))\n"
   ]
  },
  {
   "cell_type": "code",
   "execution_count": 5,
   "metadata": {},
   "outputs": [
    {
     "data": {
      "image/png": "[encoded data removed]",
      "text/plain": [
       "<Figure size 432x288 with 1 Axes>"
      ]
     },
     "metadata": {
      "needs_background": "light"
     },
     "output_type": "display_data"
    }
   ],
   "source": [
    "def chain_deriv_2(chain: Chain,\n",
    "                 input_range: np.ndarray) -> np.ndarray:\n",
    "    \n",
    "    assert len(chain) == 2\n",
    "    assert input_range.ndim == 1\n",
    "    \n",
    "    f1 = chain[0]\n",
    "    f2 = chain[1]\n",
    "    \n",
    "    f1_of_x = f1(input_range)\n",
    "    df1dx = deriv(f1, input_range)\n",
    "    df2du = deriv(f2, f1(input_range))\n",
    "    return df1dx * df2du\n",
    "\n",
    "plot_range = np.arange(-3, 3, 0.01)\n",
    "\n",
    "chain_1 = [square, sigmoid]\n",
    "chain_2 = [sigmoid, square]\n",
    "\n",
    "plot_chain_1 = chain_length_2(chain_1, plot_range)\n",
    "plot_chain_deriv_1 = chain_deriv_2(chain_1, plot_range)\n",
    "\n",
    "plot_chain_2 = chain_length_2(chain_2, plot_range)\n",
    "plot_chain_deriv_2 = chain_deriv_2(chain_2, plot_range)\n",
    "\n",
    "plt.plot(plot_range, plot_chain_deriv_2, 'r')\n",
    "plt.plot(plot_range, plot_chain_2, 'b')\n",
    "plt.show()\n"
   ]
  },
  {
   "cell_type": "code",
   "execution_count": 6,
   "metadata": {},
   "outputs": [
    {
     "data": {
      "image/png": "[encoded data removed]",
      "text/plain": [
       "<Figure size 432x288 with 1 Axes>"
      ]
     },
     "metadata": {
      "needs_background": "light"
     },
     "output_type": "display_data"
    }
   ],
   "source": [
    "plt.plot(plot_range, plot_chain_deriv_1, 'r')\n",
    "plt.plot(plot_range, plot_chain_1, 'b')\n",
    "plt.show()"
   ]
  },
  {
   "cell_type": "code",
   "execution_count": 7,
   "metadata": {},
   "outputs": [],
   "source": [
    "def chain_deriv_3(chain: Chain,\n",
    "                  input_range: np.ndarray) -> np.ndarray:\n",
    "    \n",
    "    assert len(chain) == 3\n",
    "    \n",
    "    f1 = chain[0]\n",
    "    f2 = chain[1]\n",
    "    f3 = chain[2]\n",
    "    \n",
    "    f1_of_x = f1(input_range)\n",
    "    f2_of_x = f2(f1_of_x)\n",
    "    \n",
    "    df3du = deriv(f3, f2_of_x)\n",
    "    df2du = deriv(f2, f1_of_x)\n",
    "    df1dx = deriv(f1, input_range)\n",
    "    \n",
    "    return df1dx * df2du * df3du\n",
    "\n",
    "def chain_length_3(chain: Chain,\n",
    "                   a: np.ndarray) -> np.ndarray:\n",
    "    \n",
    "    assert len(chain) == 3\n",
    "    \n",
    "    f1 = chain[0]\n",
    "    f2 = chain[1]\n",
    "    f3 = chain[2]\n",
    "    \n",
    "    return f3(f2(f1(a)))"
   ]
  },
  {
   "cell_type": "code",
   "execution_count": 8,
   "metadata": {},
   "outputs": [
    {
     "data": {
      "image/png": "[encoded data removed]",
      "text/plain": [
       "<Figure size 432x288 with 1 Axes>"
      ]
     },
     "metadata": {
      "needs_background": "light"
     },
     "output_type": "display_data"
    }
   ],
   "source": [
    "plot_range = np.arange(-3, 3, 0.01)\n",
    "new_chain = [lealy_relu, sigmoid, square]\n",
    "plt.plot(plot_range, chain_deriv_3(new_chain, plot_range), 'r')\n",
    "plt.plot(plot_range, chain_length_3(new_chain, plot_range), 'b')\n",
    "plt.show()"
   ]
  },
  {
   "cell_type": "code",
   "execution_count": 9,
   "metadata": {},
   "outputs": [
    {
     "data": {
      "text/plain": [
       "array([[0.99966465, 0.9999546 , 0.99999386],\n",
       "       [0.99999917, 0.99999989, 0.99999998]])"
      ]
     },
     "execution_count": 9,
     "metadata": {},
     "output_type": "execute_result"
    }
   ],
   "source": [
    "def multiple_inputs_add(x: np.ndarray,\n",
    "                        y: np.ndarray,\n",
    "                        sigma: Array_Function) -> float:\n",
    "    assert x.shape == y.shape\n",
    "    \n",
    "    a = x + y\n",
    "    return sigma(a)\n",
    "\n",
    "x_1 = np.array([[1,2,3],\n",
    "                [4,5,6]])\n",
    "y_1 = np.array([[ 7, 8, 9],\n",
    "                [10,11,12]])\n",
    "\n",
    "multiple_inputs_add(x_1, y_1, sigmoid)\n",
    "\n"
   ]
  },
  {
   "cell_type": "code",
   "execution_count": 10,
   "metadata": {},
   "outputs": [
    {
     "data": {
      "text/plain": [
       "(array([[3.35237727e-04, 4.53958152e-05, 6.14413792e-06],\n",
       "        [8.31527458e-07, 1.12535203e-07, 1.52299284e-08]]),\n",
       " array([[3.35237727e-04, 4.53958152e-05, 6.14413792e-06],\n",
       "        [8.31527458e-07, 1.12535203e-07, 1.52299284e-08]]))"
      ]
     },
     "execution_count": 10,
     "metadata": {},
     "output_type": "execute_result"
    }
   ],
   "source": [
    "def multiple_inputs_add_backwards(x: np.ndarray,\n",
    "                                  y: np.ndarray,\n",
    "                                  sigma: Array_Function) -> float:\n",
    "    \n",
    "    a = x + y\n",
    "    dsda = deriv(sigma, a)\n",
    "    dadx, dady = 1, 1\n",
    "    \n",
    "    return dsda * dadx, dsda * dady\n",
    "\n",
    "multiple_inputs_add_backwards(x_1, y_1, sigmoid)"
   ]
  },
  {
   "cell_type": "code",
   "execution_count": 11,
   "metadata": {},
   "outputs": [
    {
     "data": {
      "text/plain": [
       "(array([[9.10221331e-04, 1.12535203e-07, 1.88737914e-12],\n",
       "        [0.00000000e+00, 0.00000000e+00, 0.00000000e+00]]),\n",
       " array([[9.10221331e-04, 1.12535203e-07, 1.88737914e-12],\n",
       "        [0.00000000e+00, 0.00000000e+00, 0.00000000e+00]]))"
      ]
     },
     "execution_count": 11,
     "metadata": {},
     "output_type": "execute_result"
    }
   ],
   "source": [
    "def multiple_inputs_times_backwards(x: np.ndarray,\n",
    "                                  y: np.ndarray,\n",
    "                                  sigma: Array_Function) -> float:\n",
    "    \n",
    "    a = x * y\n",
    "    dsda = deriv(sigma, a)\n",
    "    dadx, dady = 1, 1\n",
    "    \n",
    "    return dsda * dadx, dsda * dady\n",
    "\n",
    "multiple_inputs_times_backwards(x_1, y_1, sigmoid)"
   ]
  },
  {
   "cell_type": "code",
   "execution_count": 12,
   "metadata": {},
   "outputs": [],
   "source": [
    "def matmu1_forward(X: np.ndarray,\n",
    "                   W: np.ndarray) -> np.ndarray:\n",
    "    \n",
    "    assert X.shape[1] == W.shape[0]\n",
    "    \n",
    "    N = np.dot(X, W)\n",
    "    \n",
    "    return N"
   ]
  },
  {
   "cell_type": "code",
   "execution_count": 13,
   "metadata": {},
   "outputs": [
    {
     "data": {
      "text/plain": [
       "array([[ 2.5,  4. ],\n",
       "       [ 5. , 10. ]])"
      ]
     },
     "execution_count": 13,
     "metadata": {},
     "output_type": "execute_result"
    }
   ],
   "source": [
    "A = np.array([[1,2.5,3],\n",
    "              [4,5,6]])\n",
    "B = np.array([[0,1],\n",
    "              [1,0],\n",
    "              [0,1]])\n",
    "matmu1_forward(A,B)"
   ]
  },
  {
   "cell_type": "code",
   "execution_count": 14,
   "metadata": {},
   "outputs": [
    {
     "data": {
      "text/plain": [
       "array([[1. , 4. ],\n",
       "       [2.5, 5. ],\n",
       "       [3. , 6. ]])"
      ]
     },
     "execution_count": 14,
     "metadata": {},
     "output_type": "execute_result"
    }
   ],
   "source": [
    "def matmul_backward_first(X: np.ndarray,\n",
    "                          W: np.ndarray) -> np.ndarray:\n",
    "    dNdX = np.transpose(W, (1, 0))\n",
    "    return dNdX\n",
    "\n",
    "matmul_backward_first(B, A)"
   ]
  },
  {
   "cell_type": "code",
   "execution_count": 15,
   "metadata": {},
   "outputs": [
    {
     "data": {
      "text/plain": [
       "array([[0.92414182, 0.98201379],\n",
       "       [0.99330715, 0.9999546 ]])"
      ]
     },
     "execution_count": 15,
     "metadata": {},
     "output_type": "execute_result"
    }
   ],
   "source": [
    "def matrix_forward_extra(X: np.ndarray,\n",
    "                         W: np.ndarray,\n",
    "                         sigma: Array_Function) -> np.ndarray:\n",
    "    \n",
    "    assert X.shape[1] == W.shape[0]\n",
    "    \n",
    "    N = np.dot(X, W)\n",
    "    S = sigma(N)\n",
    "    return S\n",
    "\n",
    "matrix_forward_extra(A,B, sigmoid)"
   ]
  },
  {
   "cell_type": "code",
   "execution_count": 16,
   "metadata": {},
   "outputs": [
    {
     "data": {
      "text/plain": [
       "array([[1.76627088e-02, 7.01037233e-02, 1.76627088e-02],\n",
       "       [4.53958152e-05, 6.64805773e-03, 4.53958152e-05]])"
      ]
     },
     "execution_count": 16,
     "metadata": {},
     "output_type": "execute_result"
    }
   ],
   "source": [
    "def matrix_function_backward_1(X: np.ndarray,\n",
    "                               W: np.ndarray,\n",
    "                               sigma: Array_Function) -> np.ndarray:\n",
    "    \n",
    "    assert X.shape[1] == W.shape[0]\n",
    "    \n",
    "    N = np.dot(X, W)\n",
    "    S = sigma(N)\n",
    "    \n",
    "    dSdN = deriv(sigma, N)\n",
    "    dNdX = np.transpose(W, (1, 0))\n",
    "    return np.dot(dSdN, dNdX)\n",
    "\n",
    "matrix_function_backward_1(A, B, sigmoid)"
   ]
  },
  {
   "cell_type": "markdown",
   "metadata": {},
   "source": []
  },
  {
   "cell_type": "code",
   "execution_count": 17,
   "metadata": {},
   "outputs": [
    {
     "data": {
      "text/plain": [
       "3.8994173612236778"
      ]
     },
     "execution_count": 17,
     "metadata": {},
     "output_type": "execute_result"
    }
   ],
   "source": [
    "def matrix_function_forward_sum(X: np.ndarray,\n",
    "                                W: np.ndarray,\n",
    "                                sigma: Array_Function) -> float:\n",
    "    assert X.shape[1] == W.shape[0]\n",
    "    \n",
    "    N = np.dot(X, W)\n",
    "    S = sigma(N)\n",
    "    L = np.sum(S)\n",
    "    \n",
    "    return L\n",
    "\n",
    "matrix_function_forward_sum(A, B, sigmoid)"
   ]
  },
  {
   "cell_type": "code",
   "execution_count": 18,
   "metadata": {},
   "outputs": [
    {
     "name": "stdout",
     "output_type": "stream",
     "text": [
      "X:\n",
      "[[-1.57752816 -0.6664228   0.63910406]\n",
      " [-0.56152218  0.73729959 -1.42307821]\n",
      " [-1.44348429 -0.39128029  0.1539322 ]]\n",
      "L:\n",
      "2.3755\n",
      "\n",
      "dLdX:\n",
      "[[ 0.2488887  -0.37478057  0.01121962]\n",
      " [ 0.12604152 -0.27807404 -0.13945837]\n",
      " [ 0.22992798 -0.36623443 -0.02252592]]\n"
     ]
    }
   ],
   "source": [
    "def matrix_function_backward_sum_1(X: np.ndarray,\n",
    "                                 W: np.ndarray,\n",
    "                                 sigma: Array_Function) -> np.ndarray:\n",
    "    assert X.shape[1] == W.shape[0]\n",
    "    \n",
    "    N = np.dot(X, W)\n",
    "    S = sigma(N)\n",
    "    L = np.sum(S)\n",
    "    \n",
    "    dLdS = np.ones_like(S)\n",
    "    dSdN = deriv(sigma, N)\n",
    "    dLdN = dLdS * dSdN\n",
    "    \n",
    "    dNdX = np.transpose(W, (1, 0))\n",
    "    #dNdW = np.transpose(X, (1,0))\n",
    "    dLdX = np.dot(dLdN, dNdX)\n",
    "    #dLdW = np.dot(dLdN, dNdW)\n",
    "    \n",
    "    return dLdX\n",
    "    #return dLdW\n",
    "\n",
    "np.random.seed(190204)\n",
    "X = np.random.randn(3, 3)\n",
    "W = np.random.randn(3, 2)\n",
    "\n",
    "print(\"X:\")\n",
    "print(X)\n",
    "\n",
    "print(\"L:\")\n",
    "print(round(matrix_function_forward_sum(X, W, sigmoid), 4))\n",
    "print()\n",
    "print(\"dLdX:\")\n",
    "print(matrix_function_backward_sum_1(X, W, sigmoid))\n"
   ]
  },
  {
   "cell_type": "code",
   "execution_count": 19,
   "metadata": {},
   "outputs": [
    {
     "name": "stdout",
     "output_type": "stream",
     "text": [
      "2.3757439982528714 2.375495101411695\n",
      "0.2489\n"
     ]
    }
   ],
   "source": [
    "X1 = X.copy()\n",
    "X1[0, 0] += 0.001\n",
    "X1\n",
    "l1 = matrix_function_forward_sum(X1, W, sigmoid)\n",
    "l2 = matrix_function_forward_sum(X, W, sigmoid)\n",
    "print(l1, l2)\n",
    "print(round((l1 - l2) / 0.001, 4))"
   ]
  },
  {
   "cell_type": "code",
   "execution_count": 20,
   "metadata": {},
   "outputs": [
    {
     "name": "stdout",
     "output_type": "stream",
     "text": [
      "X:\n",
      "[[-1.57752816 -0.6664228   0.63910406]\n",
      " [-0.56152218  0.73729959 -1.42307821]\n",
      " [-1.44348429 -0.39128029  0.1539322 ]]\n"
     ]
    }
   ],
   "source": [
    "print(\"X:\")\n",
    "print(X)"
   ]
  },
  {
   "cell_type": "code",
   "execution_count": 1,
   "metadata": {},
   "outputs": [],
   "source": [
    "import numpy as np\n",
    "test_X = np.array([[ 1, 2, 3, 4, 5],\n",
    "                   [ 6, 7, 8, 9,10],\n",
    "                   [11,12,13,14,15]])"
   ]
  }
 ],
 "metadata": {
  "kernelspec": {
   "display_name": "Python 3",
   "language": "python",
   "name": "python3"
  },
  "language_info": {
   "codemirror_mode": {
    "name": "ipython",
    "version": 3
   },
   "file_extension": ".py",
   "mimetype": "text/x-python",
   "name": "python",
   "nbconvert_exporter": "python",
   "pygments_lexer": "ipython3",
   "version": "3.8.5"
  }
 },
 "nbformat": 4,
 "nbformat_minor": 4
}
